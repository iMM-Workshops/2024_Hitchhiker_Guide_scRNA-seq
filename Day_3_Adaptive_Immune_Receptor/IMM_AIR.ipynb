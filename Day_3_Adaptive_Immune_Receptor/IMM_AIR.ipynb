{
 "cells": [
  {
   "cell_type": "markdown",
   "id": "african-anniversary",
   "metadata": {},
   "source": [
    "**Setup**\n",
    "\n",
    "If using your own machine and Python installation:\n",
    "- Install the environment according to the [Github instructions](https://github.com/iMM-Workshops/2024_Hitchhiker_Guide_scRNA-seq/tree/main/Day_3_Adaptive_Immune_Receptor)\n",
    "- Run this notebook with the `imm_air_env` environment we have previously created\n",
    "\n",
    "If using Google Colab:\n",
    "- Add the data from https://drive.google.com/drive/folders/1Uk6pmMRzpwnjfZobabHChDNMoGAd-aHE?usp=drive_link to your own Google Drive\n",
    "- Run the below lines to mount your Google Drive to the Colab session\n",
    "- Install the dependencies"
   ]
  },
  {
   "cell_type": "code",
   "execution_count": null,
   "id": "guided-comfort",
   "metadata": {},
   "outputs": [],
   "source": [
    "from google.colab import drive\n",
    "drive.mount(\"/content/drive\")"
   ]
  },
  {
   "cell_type": "code",
   "execution_count": null,
   "id": "damaged-studio",
   "metadata": {},
   "outputs": [],
   "source": [
    "!pip install git+https://github.com/Teichlab/cell2tcr.git@db_extension scirpy seaborn bbknn"
   ]
  },
  {
   "cell_type": "markdown",
   "id": "maritime-buying",
   "metadata": {},
   "source": [
    "# Exploratory data analysis"
   ]
  },
  {
   "cell_type": "markdown",
   "id": "ideal-roller",
   "metadata": {},
   "source": [
    "We will base our tutorial on a longitudinal scRNA-seq and scVDJ-seq dataset, where 16 donors were profiled at 6 different time points during a viral challenge trial: \n",
    "\n",
    "**Human SARS-CoV-2 challenge uncovers local and systemic response dynamics**\n",
    "[Lindeboom et al, Nature, 2024](https://doi.org/10.1038/s41586-024-07575-x).\n",
    "\n",
    "The samples were processed with the 10x Chromium Single Cell Immune Profiling kit. For more information, read the [10x documentation](https://cdn.10xgenomics.com/image/upload/v1660261285/support-documents/CG000361_GettingStartedImmuneProfiling_RevA.pdf).\n",
    "\n",
    "You can access the data at this Google Drive folder: https://drive.google.com/drive/folders/1Uk6pmMRzpwnjfZobabHChDNMoGAd-aHE?usp=sharing\n",
    "\n",
    "Some information on the VDJ notation:\n",
    "- VJ refers to TCR alpha chain, VDJ to TCR beta chain\n",
    "- Each cell has 2 alleles of for the TCR alpha and beta loci, and can theoretically IR_VJ_1 refers to the more abundant TCR alpha chain, IR_VJ_2 to the less abundant one (if any). Analogous for IR_VDJ_1 / IR_VDJ_2.\n",
    "\n",
    "## T cells are diverse!\n",
    "### Load environment and dataset"
   ]
  },
  {
   "cell_type": "code",
   "execution_count": null,
   "id": "monthly-industry",
   "metadata": {},
   "outputs": [],
   "source": [
    "import scanpy as sc\n",
    "import pandas as pd\n",
    "import scirpy as ir\n",
    "import cell2tcr\n",
    "\n",
    "sc.settings.verbosity = 3  # use this flag to manage verbosity: errors (0), warnings (1), info (2), hints (3)\n",
    "sc.settings.set_figure_params(dpi=80, frameon=False, figsize=(6, 6), facecolor=\"white\")"
   ]
  },
  {
   "cell_type": "code",
   "execution_count": null,
   "id": "sound-sleeping",
   "metadata": {},
   "outputs": [],
   "source": [
    "# load data\n",
    "# file path depends on where you save the objects to !\n",
    "# If on Google Colab: If you have saved the h5ad to a folder on your Drive called 'data', you would access it like this:\n",
    "# adata = sc.read_h5ad('drive/MyDrive/data/human_challenge_gex.h5ad')\n",
    "\n",
    "# adata = sc.read_h5ad('/nfs/team205/ld21_sharing/imm_workshop/human_challenge_w_UMAP_w_BBKNN.h5ad')\n",
    "adata = sc.read_h5ad('/path/to/human_challenge_gex.h5ad')\n",
    "adata"
   ]
  },
  {
   "cell_type": "markdown",
   "id": "moral-hepatitis",
   "metadata": {},
   "source": [
    "### Visualise without batch correction"
   ]
  },
  {
   "cell_type": "code",
   "execution_count": null,
   "id": "resistant-handy",
   "metadata": {},
   "outputs": [],
   "source": [
    "# compute 500 highly variable genes (HVGs)\n",
    "sc.pp.highly_variable_genes(\n",
    "    adata, \n",
    "    layer='logcounts',\n",
    "    n_top_genes=500\n",
    ")"
   ]
  },
  {
   "cell_type": "code",
   "execution_count": null,
   "id": "capable-citizenship",
   "metadata": {},
   "outputs": [],
   "source": [
    "# subset to HVGs\n",
    "adata = adata[:,adata.var.highly_variable]"
   ]
  },
  {
   "cell_type": "code",
   "execution_count": null,
   "id": "familiar-daniel",
   "metadata": {},
   "outputs": [],
   "source": [
    "# compute principal components\n",
    "sc.tl.pca(adata, layer='logcounts')"
   ]
  },
  {
   "cell_type": "code",
   "execution_count": null,
   "id": "adjusted-promotion",
   "metadata": {},
   "outputs": [],
   "source": [
    "# compute nearest neighbours\n",
    "sc.pp.neighbors(adata)"
   ]
  },
  {
   "cell_type": "code",
   "execution_count": null,
   "id": "charming-wisdom",
   "metadata": {},
   "outputs": [],
   "source": [
    "# compute 2D UMAP projection\n",
    "sc.tl.umap(adata)"
   ]
  },
  {
   "cell_type": "code",
   "execution_count": null,
   "id": "major-pierce",
   "metadata": {},
   "outputs": [],
   "source": [
    "# plot UMAP\n",
    "sc.pl.umap(\n",
    "    adata,\n",
    "    color=['donor_id','time_point'],\n",
    "    ncols=1\n",
    ")\n",
    "\n",
    "sc.pl.umap(\n",
    "    adata,\n",
    "    color=['cell_compartment'],\n",
    "    ncols=1,\n",
    ")\n",
    "\n",
    "sc.pl.umap(\n",
    "    adata,\n",
    "    color=['cell_type'],\n",
    "    ncols=1,\n",
    "    groups=adata.obs.cell_type.value_counts()[:13].index.values,\n",
    "    legend_loc='on data',\n",
    "    legend_fontsize=6\n",
    ")"
   ]
  },
  {
   "cell_type": "markdown",
   "id": "exterior-allah",
   "metadata": {},
   "source": [
    "### Visualise with simple batch correction\n",
    "We will integrate the samples by correcting for donor-specific effects with [BBKNN](https://doi.org/10.1093/bioinformatics/btz625) (Polanski et al, 2020).\n",
    "\n",
    "Restart the kernel and load the dataset anew, then process using the below code."
   ]
  },
  {
   "cell_type": "code",
   "execution_count": null,
   "id": "gorgeous-flower",
   "metadata": {},
   "outputs": [],
   "source": [
    "# compute 500 highly variable genes (HVGs)\n",
    "sc.pp.highly_variable_genes(\n",
    "    adata, \n",
    "    layer='logcounts',\n",
    "    n_top_genes=500\n",
    ")"
   ]
  },
  {
   "cell_type": "code",
   "execution_count": null,
   "id": "southern-resolution",
   "metadata": {},
   "outputs": [],
   "source": [
    "# subset to HVGs\n",
    "adata = adata[:,adata.var.highly_variable]"
   ]
  },
  {
   "cell_type": "code",
   "execution_count": null,
   "id": "disabled-scoop",
   "metadata": {},
   "outputs": [],
   "source": [
    "# compute principal components\n",
    "sc.tl.pca(adata, layer='logcounts')"
   ]
  },
  {
   "cell_type": "code",
   "execution_count": null,
   "id": "recorded-strip",
   "metadata": {},
   "outputs": [],
   "source": [
    "# compute batch-balanced k-nearest neighbour graph\n",
    "sc.external.pp.bbknn(adata, batch_key='donor_id')"
   ]
  },
  {
   "cell_type": "code",
   "execution_count": null,
   "id": "adopted-despite",
   "metadata": {},
   "outputs": [],
   "source": [
    "# compute 2D UMAP projection\n",
    "sc.tl.umap(adata)"
   ]
  },
  {
   "cell_type": "code",
   "execution_count": null,
   "id": "naked-trading",
   "metadata": {},
   "outputs": [],
   "source": [
    "# plot UMAP\n",
    "sc.pl.umap(\n",
    "    adata,\n",
    "    color=['donor_id','time_point'],\n",
    "    ncols=1\n",
    ")\n",
    "\n",
    "sc.pl.umap(\n",
    "    adata,\n",
    "    color=['cell_compartment'],\n",
    "    ncols=1,\n",
    ")\n",
    "\n",
    "sc.pl.umap(\n",
    "    adata,\n",
    "    color=['cell_type'],\n",
    "    ncols=1,\n",
    "    groups=adata.obs.cell_type.value_counts()[:13].index.values,\n",
    "    legend_loc='on data',\n",
    "    legend_fontsize=6\n",
    ")"
   ]
  },
  {
   "cell_type": "markdown",
   "id": "normal-oliver",
   "metadata": {},
   "source": [
    "### Visualise after proper batch correction\n",
    "We will visualise the UMAP obtained after more detailed batch correction in the paper (process not shown here)."
   ]
  },
  {
   "cell_type": "code",
   "execution_count": null,
   "id": "naked-eligibility",
   "metadata": {},
   "outputs": [],
   "source": [
    "# UMAP after proper batch correction\n",
    "# we restrict the visible space of the UMAP to T cells as the original UMAP included non-T cell types which are no longer present in this object\n",
    "\n",
    "sc.pl.embedding(\n",
    "    adata[(adata.obsm['X_umap_harmony_rna_wvdj_30pcs_6000hvgs'][:,0]>-2)&(adata.obsm['X_umap_harmony_rna_wvdj_30pcs_6000hvgs'][:,1]<0)],\n",
    "    'X_umap_harmony_rna_wvdj_30pcs_6000hvgs',\n",
    "    color=['donor_id','time_point'],\n",
    "    ncols=1\n",
    ")\n",
    "\n",
    "sc.pl.embedding(\n",
    "    adata[(adata.obsm['X_umap_harmony_rna_wvdj_30pcs_6000hvgs'][:,0]>-2)&(adata.obsm['X_umap_harmony_rna_wvdj_30pcs_6000hvgs'][:,1]<0)],\n",
    "    'X_umap_harmony_rna_wvdj_30pcs_6000hvgs',\n",
    "    color=['cell_compartment'],\n",
    "    ncols=1,\n",
    ")\n",
    "\n",
    "sc.pl.embedding(\n",
    "    adata[(adata.obsm['X_umap_harmony_rna_wvdj_30pcs_6000hvgs'][:,0]>-2)&(adata.obsm['X_umap_harmony_rna_wvdj_30pcs_6000hvgs'][:,1]<0)],\n",
    "    'X_umap_harmony_rna_wvdj_30pcs_6000hvgs',\n",
    "    color=['cell_type'],\n",
    "    ncols=1,\n",
    "    groups=adata.obs.cell_type.value_counts()[:13].index.values,\n",
    "    legend_loc='on data',\n",
    "    legend_fontsize=6\n",
    ")"
   ]
  },
  {
   "cell_type": "code",
   "execution_count": null,
   "id": "desperate-principle",
   "metadata": {},
   "outputs": [],
   "source": [
    "sc.pl.embedding(\n",
    "    adata[(adata.obsm['X_umap_harmony_rna_wvdj_30pcs_6000hvgs'][:,0]>-2)&(adata.obsm['X_umap_harmony_rna_wvdj_30pcs_6000hvgs'][:,1]<0)],\n",
    "    'X_umap_harmony_rna_wvdj_30pcs_6000hvgs',\n",
    "    color=['cell_state'],\n",
    "    ncols=1,\n",
    "    groups=adata.obs.cell_state.value_counts()[:15].index.values,\n",
    "    legend_loc='on data',\n",
    "    legend_fontsize=6,\n",
    "    legend_fontoutline=2,\n",
    ")"
   ]
  },
  {
   "cell_type": "markdown",
   "id": "valuable-provincial",
   "metadata": {},
   "source": [
    "## Understanding the VDJ columns in our data\n",
    "- Find the columns that contain immune receptor data\n",
    "**Tips**\n",
    "\n",
    "- Per-cell information is in `adata.obs`, which is a pandas dataframe `pd.DataFrame()`. Any function of pandas can be applied to it, usually by directly appending it to the dataframe.\n",
    "- View all columns: Simply `adata` or `adata.obs.columns`\n",
    "- Select columns by text: `adata.obs.loc[:,adata.obs.columns.str.contains('yourtexthere')]`"
   ]
  },
  {
   "cell_type": "code",
   "execution_count": null,
   "id": "eight-bolivia",
   "metadata": {},
   "outputs": [],
   "source": [
    "# your code for inspecting the VDJ columns"
   ]
  },
  {
   "cell_type": "code",
   "execution_count": null,
   "id": "perfect-special",
   "metadata": {},
   "outputs": [],
   "source": [
    "adata"
   ]
  },
  {
   "cell_type": "markdown",
   "id": "desperate-steel",
   "metadata": {},
   "source": [
    "## Missing or extra immune receptor chains\n",
    "- How many T cells have 1, 2, 3, or 4 IR chains ?\n",
    "\n",
    "**Tips**\n",
    "\n",
    "- Select columns by name: `adata.obs.loc[:,['IR_VDJ_1_v_gene_tcr','IR_VDJ_1_j_gene_tcr']]`\n",
    "- Select cells by conditioning on a column: `adata[adata.obs.donor_id=='participant_1']`\n",
    "- Select cells by conditioning on multiple columns: `adata[(adata.obs.donor_id=='participant_1')&(adata.obs.time_point=='D10')]`\n",
    "- Use `pd.DataFrame().isna()` and `pd.DataFrame().notna()` functions to query which cells have real values in a column. Cells without TCR information will have `Nan` instead.\n",
    "- Use `pd.DataFrame().value_counts()` to show the elements present in a column and how often they appear.\n",
    "- View help for a function by going inside the parenthesis to see the docstring or looking up examples online.\n",
    "\n",
    "For the remainder of this tutorial, we will not need the gene expression data. Thus, we can create a copy of the per-cell dataframe and operate on it directly."
   ]
  },
  {
   "cell_type": "code",
   "execution_count": null,
   "id": "modified-detective",
   "metadata": {},
   "outputs": [],
   "source": [
    "# create dataframe with per-cell information\n",
    "df = adata.obs.copy()"
   ]
  },
  {
   "cell_type": "code",
   "execution_count": null,
   "id": "protected-taylor",
   "metadata": {},
   "outputs": [],
   "source": [
    "# How many cells have how many IR chains ? Try to find this yourself or inspect the code below\n",
    "df.loc[:,['IR_VJ_1_cdr3_tcr','IR_VDJ_1_cdr3_tcr','IR_VJ_2_cdr3_tcr','IR_VDJ_2_cdr3_tcr']].notna().sum(axis=1).value_counts().sort_index().plot.bar(title='IR chain distribution', xlabel='Number of chains', ylabel='Number of T cells')"
   ]
  },
  {
   "cell_type": "markdown",
   "id": "limited-claim",
   "metadata": {},
   "source": [
    "## TCR repertoire diversity\n",
    "**Paired clonotype diversity:** For each TCR clone in the filtered contig annotations, count the number of unique barcodes (cells). Divide the counts of unique barcodes by the total number of unique barcodes to derive the proportional abundances. Then square each of the proportional abundances. One over the sum of the squared values gives the inverse Simpson’s index.\n",
    "\n",
    "The index value ranges from one to the estimated number of cells. A value of one indicates no diversity, and a value equal to the estimated number of cells indicates maximal diversity. If clonotypes are absent, the value is set to zero. The paired clonotype diversity metric is useful to compare samples, e.g. pre and post treatment, and to assess clonal expansion. \n",
    "- Write a function to compute paired clonotype diversity for an arbitrary set of T cells\n",
    "- What is the paired clonotype diversity for the different samples? And for the donors?"
   ]
  },
  {
   "cell_type": "code",
   "execution_count": null,
   "id": "valued-raleigh",
   "metadata": {},
   "outputs": [],
   "source": [
    "def paired_clonotype_diversity(df):\n",
    "    # compute abundance of each clonotype, defined by unique AA sequence. Normalize by sample size. \n",
    "    # Square and sum these values, then take the inverse\n",
    "    return 1/df.value_counts(['IR_VJ_1_cdr3_tcr','IR_VDJ_1_cdr3_tcr'], normalize=True).pow(2).sum()"
   ]
  },
  {
   "cell_type": "code",
   "execution_count": null,
   "id": "living-adobe",
   "metadata": {},
   "outputs": [],
   "source": [
    "for i in adata.obs.sample_id.unique():\n",
    "    print(i, f': {paired_clonotype_diversity(adata[adata.obs.sample_id==i].obs):.1f}')"
   ]
  },
  {
   "cell_type": "markdown",
   "id": "prerequisite-lawsuit",
   "metadata": {},
   "source": [
    "## Public and private immune receptor repertoire\n",
    "- Do you find public TCRs at the amino acid level? And at the nucleotide level?\n",
    "- How are T cells with public TCRs distributed by phenotype? E.g. compare naive vs effector/memory compartments.\n",
    "\n",
    "\n",
    "**Tips**\n",
    "\n",
    "- Show statistics for a single column: `df['yourcolumn'].mean()`, or `.unique()`, `.nunique()`, `.value_counts()`, etc\n",
    "- Compute statistics by column with `df.groupby('yourcolumn')`. Useful statistics are `.mean()`, `.nunique()`\n",
    "- Sort a dataframe by the values of a column: `df.sort_values('yourcolumn')` or `df['yourcolumn'].sort_values()`\n",
    "- Select rows or columns by slicing: `df.iloc[:10, :5]`. The first entry will select rows (cells), the second columns\n",
    "- Sort a dataframe by its index: `df.sort_index()`\n",
    "- Numerical comparison on a column: \n",
    "    - `df['yourcolumn'].max()` : return the maximum value\n",
    "    - `df['yourcolumn'].min()` : return the minimum value\n",
    "    - `df['yourcolumn'].gt(2)` : greater than e.g. 2, returns a boolean (True/False)\n",
    "    - `df['yourcolumn'].eq(2)` : equal to e.g. 2\n",
    "    - `df['yourcolumn'].lt(2)` : less than e.g. 2\n",
    "    - You can combine the above operations: `df['yourcolumn'].gt(2).sum()`"
   ]
  },
  {
   "cell_type": "code",
   "execution_count": null,
   "id": "induced-sewing",
   "metadata": {},
   "outputs": [],
   "source": [
    "# define clonotype : Any TCR with unique combination of VJ and VDJ gene calls as well as unique amino acid (AA) sequence\n",
    "# this will assign a clonotype number to every cell, and cells with identical TCRs will get the same number.\n",
    "\n",
    "df['clonotype_AA'] = df.groupby(['IR_VDJ_1_cdr3_tcr', 'IR_VDJ_1_v_gene_tcr', 'IR_VDJ_1_j_gene_tcr', 'IR_VJ_1_cdr3_tcr', 'IR_VJ_1_v_gene_tcr','IR_VJ_1_j_gene_tcr'], sort=False).ngroup()"
   ]
  },
  {
   "cell_type": "code",
   "execution_count": null,
   "id": "velvet-washington",
   "metadata": {},
   "outputs": [],
   "source": [
    "# are any clonotypes found in multiple donors ? How many clonotypes are public ? \n",
    "df.groupby('clonotype_AA').nunique().donor_id.gt(1).sum()"
   ]
  },
  {
   "cell_type": "code",
   "execution_count": null,
   "id": "appreciated-lottery",
   "metadata": {},
   "outputs": [],
   "source": [
    "# what are the 10 clonotype_AA ids for which we have most sharing?\n",
    "df.groupby('clonotype_AA').nunique().donor_id.sort_values(ascending=False).iloc[:10].index"
   ]
  },
  {
   "cell_type": "code",
   "execution_count": null,
   "id": "worldwide-tuner",
   "metadata": {},
   "outputs": [],
   "source": [
    "# for the below, it may help to save the columns as strings instead of categories. This way, for value_counts(), categories with zeros are ommitted\n",
    "for column in ['donor_id','cell_compartment','cell_type','cell_state']:\n",
    "    df[column] = df[column].astype(str)"
   ]
  },
  {
   "cell_type": "code",
   "execution_count": null,
   "id": "republican-marine",
   "metadata": {},
   "outputs": [],
   "source": [
    "# iterate through the 10 most public TCRs, show how many donors they are shared by, and which cell states they belong to\n",
    "for i in df.groupby('clonotype_AA').nunique().donor_id.sort_values(ascending=False).iloc[:10].index:\n",
    "    print('Clonotype:', i)\n",
    "    print('Donors:', df[df.clonotype_AA==i].donor_id.unique())\n",
    "    print(df[df.clonotype_AA==i].cell_state.value_counts(),'\\n') # '\\n' inserts a new line to separate the print output, purely aestethic"
   ]
  },
  {
   "cell_type": "markdown",
   "id": "physical-woman",
   "metadata": {},
   "source": [
    "# Scirpy package\n",
    "The [Scirpy package](https://scirpy.scverse.org/en/latest/index.html) by [Sturm et al, 2020](https://doi.org/10.1093/bioinformatics/btaa611), comes with many built-in VDJ analysis functions, which we will use to investigate our dataset in more detail.\n",
    "\n",
    "It requires the AIR data to be compatible with Scirpy. This can be easily done using one of the `ir.read_` functions of Scirpy, detailed in their [documentation](https://scirpy.scverse.org/en/latest/tutorials/tutorial_io.html). For the purpose of this tutorial, continue with the data you can find on [Google Drive](https://drive.google.com/drive/folders/1Uk6pmMRzpwnjfZobabHChDNMoGAd-aHE?usp=drive_link) (human_challenge_airr.h5ad)."
   ]
  },
  {
   "cell_type": "code",
   "execution_count": null,
   "id": "smaller-fields",
   "metadata": {},
   "outputs": [],
   "source": [
    "# adata = sc.read_h5ad('/nfs/team205/ld21_sharing/imm_workshop/human_challenge_airr_w_obs_covid_status.h5ad')\n",
    "adata = sc.read_h5ad('/path/to/human_challenge_air.h5ad')\n",
    "adata"
   ]
  },
  {
   "cell_type": "code",
   "execution_count": null,
   "id": "functioning-palestine",
   "metadata": {},
   "outputs": [],
   "source": [
    "# subset to relevant T cell subsets\n",
    "adata = adata[adata.obs.cell_type.isin(['T CD4 Naive', 'T CD4 Helper', 'T CD8 Naive', 'T CD8 CTL','T CD8 Memory', 'T Reg', 'T MAI', 'T CD4 CTL', 'T Double Negative'])]"
   ]
  },
  {
   "cell_type": "code",
   "execution_count": null,
   "id": "bigger-heart",
   "metadata": {},
   "outputs": [],
   "source": [
    "# Scirpy processing\n",
    "ir.pp.index_chains(adata)"
   ]
  },
  {
   "cell_type": "code",
   "execution_count": null,
   "id": "downtown-amino",
   "metadata": {},
   "outputs": [],
   "source": [
    "ir.tl.chain_qc(adata)"
   ]
  },
  {
   "cell_type": "markdown",
   "id": "extra-russia",
   "metadata": {},
   "source": [
    "## AIR abundance plots\n",
    "Check out the below plots\n",
    "- What do you deduce from them?\n",
    "- Are they as expected?\n",
    "- Try plotting some other metadata (phenotype, time point)"
   ]
  },
  {
   "cell_type": "code",
   "execution_count": null,
   "id": "pregnant-court",
   "metadata": {},
   "outputs": [],
   "source": [
    "ir.pl.group_abundance(adata, groupby='chain_pairing')"
   ]
  },
  {
   "cell_type": "code",
   "execution_count": null,
   "id": "subject-printing",
   "metadata": {},
   "outputs": [],
   "source": [
    "ir.pl.group_abundance(adata, groupby='donor_id', target_col='chain_pairing')"
   ]
  },
  {
   "cell_type": "code",
   "execution_count": null,
   "id": "changed-static",
   "metadata": {},
   "outputs": [],
   "source": [
    "# subset to cells with full alpha and beta chain\n",
    "adata.obs.chain_pairing.value_counts()"
   ]
  },
  {
   "cell_type": "code",
   "execution_count": null,
   "id": "hollow-panic",
   "metadata": {},
   "outputs": [],
   "source": [
    "adata = adata[adata.obs.chain_pairing=='single pair']"
   ]
  },
  {
   "cell_type": "markdown",
   "id": "forced-square",
   "metadata": {},
   "source": [
    "## Compute TCR similarity and clonotypes\n",
    "Have a look at the functions `ir.pp.ir_dist` and `ir.pp.define_clonotypes`.\n",
    "- What do the function parameters `metric` and `cutoff` mean?\n",
    "- What impact will the parameter `sequence` have?"
   ]
  },
  {
   "cell_type": "code",
   "execution_count": null,
   "id": "controlled-remedy",
   "metadata": {},
   "outputs": [],
   "source": [
    "# using default parameters, `ir_dist` will compute nucleotide sequence identity\n",
    "ir.pp.ir_dist(adata)"
   ]
  },
  {
   "cell_type": "code",
   "execution_count": null,
   "id": "proper-holly",
   "metadata": {},
   "outputs": [],
   "source": [
    "# This step is computationally expensive and may run for 5 minutes\n",
    "ir.tl.define_clonotypes(adata, receptor_arms='all', dual_ir='primary_only', n_jobs=1) # n_jobs determines how many CPUs are used - can try more if your computer supports it"
   ]
  },
  {
   "cell_type": "markdown",
   "id": "mounted-desert",
   "metadata": {},
   "source": [
    "## Visualise clonotypes\n",
    "We can visualise the clonotypes in network plots.\n",
    "- Plot the clonotype network for all T cells. Is it helpful or informative? \n",
    "- Subset the dataset (e.g. by phenotype and/or donor ) and use different colors (donor / time point).\n",
    "\n",
    "**Tips**\n",
    "\n",
    "- Subsetting by donor: `adata[adata.obs.donor_id=='participant_XX']`\n",
    "- Adjust these parameters: `base_size`, `label_fontsize`"
   ]
  },
  {
   "cell_type": "code",
   "execution_count": null,
   "id": "important-dover",
   "metadata": {},
   "outputs": [],
   "source": [
    "ir.tl.clonotype_network(adata, min_cells=2)"
   ]
  },
  {
   "cell_type": "code",
   "execution_count": null,
   "id": "confidential-loading",
   "metadata": {},
   "outputs": [],
   "source": [
    "ir.pl.clonotype_network(adata, color='donor_id')"
   ]
  },
  {
   "cell_type": "markdown",
   "id": "mighty-blame",
   "metadata": {},
   "source": [
    "## Clonotypes at the amino acid level\n",
    "This computation will take a long time. Thus, we will try the below on a subset of our data. For this example, I selected the entire CD8 T cell compartment. This took 25 minutes for computing VJ and VDJ distance matrices. In case this runs for too long, find a checkpoint object in the Google Drive folder called `human_challenge_air_checkpoint_1.h5ad`, which you can load to skip the `ir.pp.ir_dist` step. You can also try this with a random sample of cell types you find interesting.\n",
    "\n",
    "**Tips**\n",
    "- Subsetting adata to 5000 randomly sampled cells: `adata[adata.obs.sample(5000).index]`"
   ]
  },
  {
   "cell_type": "code",
   "execution_count": null,
   "id": "tight-american",
   "metadata": {},
   "outputs": [],
   "source": [
    "adata_cd8 = adata[adata.obs.cell_compartment=='T CD8']\n",
    "\n",
    "# Alternatively:\n",
    "# adata_cd8 = sc.read_h5ad('path/to/human_challenge_air_checkpoint_1.h5ad')"
   ]
  },
  {
   "cell_type": "code",
   "execution_count": null,
   "id": "decent-black",
   "metadata": {},
   "outputs": [],
   "source": [
    "ir.pp.ir_dist(\n",
    "    adata_cd8,\n",
    "    metric=\"fastalignment\",\n",
    "    sequence=\"aa\",\n",
    "    cutoff=15,\n",
    "    n_jobs=1,\n",
    ")"
   ]
  },
  {
   "cell_type": "code",
   "execution_count": null,
   "id": "associate-precipitation",
   "metadata": {},
   "outputs": [],
   "source": [
    "ir.tl.define_clonotypes(adata_cd8, receptor_arms=\"all\", dual_ir=\"primary_only\", n_jobs=1)"
   ]
  },
  {
   "cell_type": "code",
   "execution_count": null,
   "id": "plain-jewelry",
   "metadata": {},
   "outputs": [],
   "source": [
    "ir.tl.define_clonotype_clusters(adata_cd8, receptor_arms=\"all\", dual_ir=\"primary_only\", n_jobs=1, metric='fastalignment')"
   ]
  },
  {
   "cell_type": "code",
   "execution_count": null,
   "id": "assured-vessel",
   "metadata": {},
   "outputs": [],
   "source": [
    "ir.tl.clonotype_network(adata_cd8, min_cells=3, sequence=\"aa\", metric=\"fastalignment\")"
   ]
  },
  {
   "cell_type": "code",
   "execution_count": null,
   "id": "excellent-token",
   "metadata": {},
   "outputs": [],
   "source": [
    "# checkpoint object saved at this stage\n",
    "# adata_cd8.write_h5ad('/nfs/team205/ld21_sharing/imm_workshop/human_challenge_air_checkpoint_1.h5ad', compression='gzip')"
   ]
  },
  {
   "cell_type": "code",
   "execution_count": null,
   "id": "european-swaziland",
   "metadata": {},
   "outputs": [],
   "source": [
    "ir.pl.clonotype_network(adata_cd8, color=\"donor_id\", label_fontsize=5)#, panel_size=(7, 7), base_size=20)"
   ]
  },
  {
   "cell_type": "markdown",
   "id": "higher-creek",
   "metadata": {},
   "source": [
    "## Clonal expansion\n",
    "We can use our full dataset for these plots. Alternatively, find and load the checkpoint object in the Google Drive folder called `human_challenge_air_checkpoint_2.h5ad` to continue.\n",
    "- Which T cell compartments show most expanded clones? Does this make sense to you?\n",
    "- How are clones shared across T cell states, types and compartments?\n",
    "- How are clones shared across invidiuals? Is this sharing different for MAI"
   ]
  },
  {
   "cell_type": "code",
   "execution_count": null,
   "id": "responsible-gazette",
   "metadata": {},
   "outputs": [],
   "source": [
    "# if loading from checkpoint 2:\n",
    "# adata = sc.read_h5ad('/path/to/human_challenge_air_checkpoint_2.h5ad')"
   ]
  },
  {
   "cell_type": "code",
   "execution_count": null,
   "id": "stock-darwin",
   "metadata": {},
   "outputs": [],
   "source": [
    "ir.tl.clonal_expansion(adata)"
   ]
  },
  {
   "cell_type": "code",
   "execution_count": null,
   "id": "tender-guard",
   "metadata": {},
   "outputs": [],
   "source": [
    "ir.pl.clonal_expansion(adata, target_col='clone_id', groupby='cell_compartment', breakpoints=(1, 3), normalize=False)"
   ]
  },
  {
   "cell_type": "code",
   "execution_count": null,
   "id": "competitive-empty",
   "metadata": {},
   "outputs": [],
   "source": [
    "ir.pl.clonal_expansion(adata, target_col='clone_id', groupby='cell_type', breakpoints=(1, 2, 5), normalize=True)"
   ]
  },
  {
   "cell_type": "code",
   "execution_count": null,
   "id": "acquired-michael",
   "metadata": {},
   "outputs": [],
   "source": [
    "ir.pl.alpha_diversity(adata, metric=\"normalized_shannon_entropy\", groupby=\"cell_type\")"
   ]
  },
  {
   "cell_type": "code",
   "execution_count": null,
   "id": "incident-insulin",
   "metadata": {},
   "outputs": [],
   "source": [
    "ir.pl.group_abundance(adata, groupby=\"clone_id\", target_col=\"cell_state\", max_cols=15)"
   ]
  },
  {
   "cell_type": "code",
   "execution_count": null,
   "id": "bibliographic-attention",
   "metadata": {},
   "outputs": [],
   "source": [
    "ir.pl.group_abundance(adata, groupby=\"clone_id\", target_col=\"donor_id\", max_cols=25)"
   ]
  },
  {
   "cell_type": "markdown",
   "id": "proud-lancaster",
   "metadata": {},
   "source": [
    "## VDJ gene usage\n",
    "- Inspect the gene usage by donor\n",
    "- Is there a VDJ bias in any of the cell types? If yes, which?"
   ]
  },
  {
   "cell_type": "code",
   "execution_count": null,
   "id": "coated-techno",
   "metadata": {},
   "outputs": [],
   "source": [
    "with ir.get.airr_context(adata, \"j_call\"):\n",
    "    ir.pl.group_abundance(\n",
    "        adata,\n",
    "        groupby=\"VDJ_1_j_call\",\n",
    "        target_col=\"donor_id\",\n",
    "        normalize=True,\n",
    "        max_cols=20,\n",
    "    )"
   ]
  },
  {
   "cell_type": "code",
   "execution_count": null,
   "id": "electrical-darkness",
   "metadata": {},
   "outputs": [],
   "source": [
    "ir.pl.vdj_usage(\n",
    "    adata,\n",
    "    full_combination=False,\n",
    "    vdj_cols=('VJ_1_v_call', 'VJ_1_j_call', 'VDJ_1_v_call', 'VDJ_1_j_call'),\n",
    "    max_segments=None,\n",
    "    max_labelled_segments=10,\n",
    "    max_ribbons=60,\n",
    "#     fig_kws={\"figsize\": (10, 10)},\n",
    ")"
   ]
  },
  {
   "cell_type": "code",
   "execution_count": null,
   "id": "distinct-sussex",
   "metadata": {},
   "outputs": [],
   "source": [
    "ir.pl.spectratype(adata, color=\"cell_type\", viztype=\"bar\")"
   ]
  },
  {
   "cell_type": "code",
   "execution_count": null,
   "id": "above-colon",
   "metadata": {},
   "outputs": [],
   "source": [
    "ir.pl.spectratype(\n",
    "    adata,\n",
    "    color=\"cell_type\",\n",
    "    viztype=\"curve\",\n",
    "    curve_layout=\"shifted\",\n",
    "    fig_kws={\"dpi\": 120},\n",
    "    kde_kws={\"kde_norm\": False},\n",
    ")"
   ]
  },
  {
   "cell_type": "markdown",
   "id": "ordinary-surfing",
   "metadata": {},
   "source": [
    "## Repertoire overlap\n",
    "Now that we have defined T cell clonotypes, we can check the repertoire overlap across categories.\n",
    "- Investigate the longitudinal aspect or our data: Does the repertoire overlap group donors together? For this, use `groupby='sample_id'` and use `heatmap_cats=['donor_id']`.\n",
    "- Do time points and covid_status show clonotype overlap?\n",
    "- What about overlaps across phenotypes?"
   ]
  },
  {
   "cell_type": "code",
   "execution_count": null,
   "id": "surgical-tract",
   "metadata": {},
   "outputs": [],
   "source": [
    "ir.pl.repertoire_overlap(\n",
    "    adata,\n",
    "    'sample_id',\n",
    "    heatmap_cats=['donor_id'],\n",
    "    yticklabels=False,\n",
    "    xticklabels=False,\n",
    ")"
   ]
  },
  {
   "cell_type": "code",
   "execution_count": null,
   "id": "gentle-hanging",
   "metadata": {},
   "outputs": [],
   "source": [
    "ir.pl.repertoire_overlap(test, 'sample_id', pair_to_plot=['participant_9_D3', 'participant_9_D14'])"
   ]
  },
  {
   "cell_type": "code",
   "execution_count": null,
   "id": "compliant-slovak",
   "metadata": {},
   "outputs": [],
   "source": [
    "ir.pl.repertoire_overlap(test, \"cell_type\", pair_to_plot=['T CD8 CTL', 'T CD8 Memory'], )"
   ]
  },
  {
   "cell_type": "code",
   "execution_count": null,
   "id": "opened-cover",
   "metadata": {},
   "outputs": [],
   "source": [
    "# Checkpoint 2 \n",
    "# adata.write_h5ad('/nfs/team205/ld21_sharing/imm_workshop/human_challenge_air_checkpoint_2.h5ad', compression='gzip')"
   ]
  },
  {
   "cell_type": "markdown",
   "id": "sealed-falls",
   "metadata": {},
   "source": [
    "## Antigen specificity database\n",
    "We can load the entries of [VDJdb](https://vdjdb.cdr3.net/) directly through Scirpy. VDJdb is a database that includes experimental data on immune receptor specificity.\n",
    "- Can you find the columns that specify the following antigen information: Epitope sequence, species and protein?\n",
    "- Which species have most entries?\n",
    "\n",
    "**Tips**\n",
    "- Use `df['yourcolumn'].value_counts().plot.barh()` to visualise distribution of elements in 'yourcolumn'"
   ]
  },
  {
   "cell_type": "code",
   "execution_count": null,
   "id": "complete-prime",
   "metadata": {},
   "outputs": [],
   "source": [
    "vdjdb = ir.datasets.vdjdb()"
   ]
  },
  {
   "cell_type": "code",
   "execution_count": null,
   "id": "laughing-louisville",
   "metadata": {},
   "outputs": [],
   "source": [
    "ir.pp.ir_dist(adata, vdjdb, metric=\"identity\", sequence=\"aa\") # takes ~7min"
   ]
  },
  {
   "cell_type": "code",
   "execution_count": null,
   "id": "interim-cuisine",
   "metadata": {},
   "outputs": [],
   "source": [
    "ir.tl.ir_query( # takes ~7min\n",
    "    adata,\n",
    "    vdjdb,\n",
    "    metric=\"identity\",\n",
    "    sequence=\"aa\",\n",
    "    receptor_arms=\"any\",\n",
    "    dual_ir=\"any\",\n",
    "    n_jobs=1\n",
    ")"
   ]
  },
  {
   "cell_type": "code",
   "execution_count": null,
   "id": "bulgarian-louisville",
   "metadata": {},
   "outputs": [],
   "source": [
    "ir.tl.ir_query_annotate(\n",
    "    adata,\n",
    "    vdjdb,\n",
    "    metric=\"identity\",\n",
    "    sequence=\"aa\",\n",
    "    include_ref_cols=[\"antigen.species\", \"antigen.gene\", \"antigen.epitope\"],\n",
    "    strategy=\"most-frequent\",\n",
    ")"
   ]
  },
  {
   "cell_type": "code",
   "execution_count": null,
   "id": "mysterious-boating",
   "metadata": {},
   "outputs": [],
   "source": [
    "# Checkpoint 3\n",
    "# adata.write_h5ad('/nfs/team205/ld21_sharing/imm_workshop/human_challenge_air_checkpoint_3.h5ad', compression='gzip')"
   ]
  },
  {
   "cell_type": "markdown",
   "id": "invalid-redhead",
   "metadata": {},
   "source": [
    "## Antigen specificity prediction\n",
    "We have now annotated our clonotypes by comparing them to the VDJdb database entries. If you have trouble running the annotation part, find and load the checkpoint object in the Google Drive folder called `human_challenge_air_checkpoint_3.h5ad` to continue.\n",
    "- How many T cells could we annotate in this way?\n",
    "- How are matches distributed across phenotypes?\n",
    "- How across sample metadata like `covid_status` and `time_point`?\n",
    "- What other interesting information can you extract from this?"
   ]
  },
  {
   "cell_type": "code",
   "execution_count": null,
   "id": "celtic-continuity",
   "metadata": {},
   "outputs": [],
   "source": [
    "# if loading from checkpoint 3\n",
    "# adata = sc.read_h5ad('/path/to/human_challenge_air_checkpoint_3.h5ad')"
   ]
  },
  {
   "cell_type": "code",
   "execution_count": null,
   "id": "piano-conflict",
   "metadata": {},
   "outputs": [],
   "source": [
    "adata.obs.value_counts(['antigen.species','cell_type']).head(40)"
   ]
  },
  {
   "cell_type": "markdown",
   "id": "dietary-happening",
   "metadata": {},
   "source": [
    "# Cell2TCR\n",
    "We will now reproduce some results from the paper **Human SARS-CoV-2 challenge uncovers local and systemic response dynamics** by [Lindeboom et al, Nature, 2024](https://doi.org/10.1038/s41586-024-07575-x). In particular, we will compute TCR motifs, which correspond to larger clonotype groups that still likely recognise the same epitope. We will use the [Cell2TCR](https://github.com/Teichlab/cell2tcr/tree/main) package to this end.\n",
    "\n",
    "We will combine the AIR data from the Human SARS-CoV-2 challenge dataset with 5 other COVID-19 datasets to look for patterns of SARS-CoV-2 specific T cells.\n",
    "\n",
    "**Datasets**\n",
    "- COMBAT consortium, 2022, doi.org/10.1016/j.cell.2022.01.012\n",
    "- Liu et al, 2021, doi.org/10.1016/j.cell.2021.02.018\n",
    "- Ren et al, 2021, doi.org/10.1016/j.cell.2021.01.053\n",
    "- Stephenson et al, 2021, doi.org/10.1038/s41591-021-01329-\n",
    "- Yoshida et al, 2021, doi.org/10.1038/s41586-021-04345-x\n",
    "\n",
    "## Computing TCR motifs\n",
    "\n",
    "For convenience, a dataframe holding all immune receptors together with phenotype information from the above studies is available on Google Drive as `air_combined_6_datasets.csv`. The data object is too big to compute the motifs during this session (it takes several hours for the 779884 cells), but you can find the precomputed motifs in the column `motif_precomputed`. We will compute TCR motifs for a subset of the overall data:\n",
    "- Create a dataframe with all activated T cell states\n",
    "- Run Cell2TCR on it\n",
    "- How do you interpret the results?\n",
    "- How do the results change if you use another phenotype (e.g. memory or naive)?\n",
    "\n",
    "**Tips**\n",
    "- Slicing by text:  `df_sub = df[df.cell_state.str.contains('yourtext')]`\n",
    "- Running Cell2TCR:  `cell2tcr.motifs(df)`\n",
    "- Showing CDR3s for a set of TCRs:  `cell2tcr.draw_cdr3(df)`\n",
    "- Cell2TCR assigns the motif id in decreasing order of TCR motif size. Thus, plotting the motifs 0-10 corresponds to plotting the 10 largest TCR motifs"
   ]
  },
  {
   "cell_type": "code",
   "execution_count": null,
   "id": "ignored-watch",
   "metadata": {},
   "outputs": [],
   "source": [
    "# df = pd.read_csv('/nfs/team205/ld21_sharing/imm_workshop/air_combined_6_datasets.csv')\n",
    "df = pd.read_csv('/path/to/air_combined_6_datasets.csv')\n",
    "df"
   ]
  },
  {
   "cell_type": "code",
   "execution_count": null,
   "id": "increasing-basket",
   "metadata": {},
   "outputs": [],
   "source": [
    "df_sub = df[df.cell_state.str.contains('CD8 Activated')]"
   ]
  },
  {
   "cell_type": "code",
   "execution_count": null,
   "id": "whole-highlight",
   "metadata": {},
   "outputs": [],
   "source": [
    "# if the below code runs into Memory Allocation Errors or gets stuck, you can reduce the chunk_size\n",
    "cell2tcr.motifs(df_sub, chunk_size=200)"
   ]
  },
  {
   "cell_type": "code",
   "execution_count": null,
   "id": "corresponding-paintball",
   "metadata": {},
   "outputs": [],
   "source": [
    "# draw the 10 biggest TCR motifs\n",
    "for i in range(10):\n",
    "    cell2tcr.draw_cdr3(df_sub[df_sub.motif==i])"
   ]
  },
  {
   "cell_type": "code",
   "execution_count": null,
   "id": "polish-dakota",
   "metadata": {},
   "outputs": [],
   "source": [
    "cell2tcr.draw_cdr3(df[df.motif_precomputed==28])\n",
    "df[df.motif_precomputed==28].cell_state.value_counts()"
   ]
  },
  {
   "cell_type": "markdown",
   "id": "editorial-afghanistan",
   "metadata": {},
   "source": [
    "## Scoring matches with the antigen specificity database\n",
    "Cell2TCR includes a function to compare TCR sequences to the [iedb.org](https://www.iedb.org/) database. It will return a dataframe of matches `db_matches`, where every row corresponds to a TCR sequence of the database that was matched against one of our own cells `input_sequence`.\n",
    "\n",
    "- How many matches were found?\n",
    "- Do some input_sequences have several matches? What does this imply?\n",
    "- Is the species/organism distribution of matches comparable to the Scirpy analysis?"
   ]
  },
  {
   "cell_type": "code",
   "execution_count": null,
   "id": "amateur-denial",
   "metadata": {},
   "outputs": [],
   "source": [
    "db_matches = cell2tcr.db_match(df_sub.IR_VDJ_1_junction_aa) # takes a few minutes"
   ]
  },
  {
   "cell_type": "code",
   "execution_count": null,
   "id": "amber-forwarding",
   "metadata": {},
   "outputs": [],
   "source": [
    "db_matches"
   ]
  },
  {
   "cell_type": "markdown",
   "id": "small-center",
   "metadata": {},
   "source": [
    "## Assigning likely antigen specificity\n",
    "We can now assign the database matches into our dataframe using `cell2tcr.db_annotate()`. \n",
    "\n",
    "**Tips**\n",
    "- Drop rows with `nan` values using `df.dropna()`"
   ]
  },
  {
   "cell_type": "code",
   "execution_count": null,
   "id": "documentary-israel",
   "metadata": {},
   "outputs": [],
   "source": [
    "cell2tcr.db_annotate(df_sub, db_matches, 'IR_VDJ_1_junction_aa')"
   ]
  },
  {
   "cell_type": "markdown",
   "id": "funded-hotel",
   "metadata": {},
   "source": [
    "# Gamma-delta T cell analysis\n",
    "We also have gamma-delta T cell data for the same paper **Human SARS-CoV-2 challenge uncovers local and systemic response dynamics**\n",
    "[Lindeboom et al, Nature, 2024](https://doi.org/10.1038/s41586-024-07575-x). You can access it in the [Google Drive](https://drive.google.com/drive/folders/1Uk6pmMRzpwnjfZobabHChDNMoGAd-aHE?usp=drive_link) under `air_gammadelta.csv`.\n",
    "\n",
    "- How are gamma delta TCR motifs different from alpha beta ones?"
   ]
  },
  {
   "cell_type": "code",
   "execution_count": null,
   "id": "frank-flight",
   "metadata": {},
   "outputs": [],
   "source": [
    "# df_gd = pd.read_csv('/nfs/team205/ld21_sharing/imm_workshop/air_gammadelta.csv')\n",
    "df_gd = pd.read_csv('/path/to/air_gammadelta.csv')\n",
    "df_gd"
   ]
  },
  {
   "cell_type": "code",
   "execution_count": null,
   "id": "reduced-connectivity",
   "metadata": {},
   "outputs": [],
   "source": [
    "cell2tcr.motifs(df_gd, add_suffix=False)"
   ]
  },
  {
   "cell_type": "code",
   "execution_count": null,
   "id": "thirty-mounting",
   "metadata": {},
   "outputs": [],
   "source": [
    "for i in range(10,20):\n",
    "    cell2tcr.draw_cdr3(df_gd[df_gd.motif==i])"
   ]
  },
  {
   "cell_type": "markdown",
   "id": "hollow-destiny",
   "metadata": {},
   "source": [
    "# Optional: Loading 10x VDJ data\n",
    "If you would like to practise loading data that has been processed using CellRanger,  continue with the code below (taken from the [tutorial by Scirpy](https://scirpy.scverse.org/en/latest/tutorials/tutorial_io.html)).\n",
    "\n",
    "**Single-cell landscape of bronchoalveolar immune cells in COVID-19 patients**\n",
    "\n",
    "Liao et al.\n",
    "- Paper: https://doi.org/10.1101/2020.02.23.20026690\n",
    "- Data: https://www.ncbi.nlm.nih.gov/geo/query/acc.cgi?acc=GSE145926\n",
    "\n",
    "Let us download the data from GEO using the above link. In a terminal, type:\n",
    "\n",
    "`wget https://ftp.ncbi.nlm.nih.gov/geo/series/GSE145nnn/GSE145926/suppl/GSE145926_RAW.tar `\n",
    "\n",
    "Next, untar the file:\n",
    "\n",
    "`tar -xvf GSE145926_RAW.tar`\n",
    "\n",
    "Now we can read in the different VDJ files using `ir.io.read_10x_vdj`\n",
    "\n",
    "**Tips**\n",
    "\n",
    "- Use `glob` to fetch all file names that match a specificiation."
   ]
  },
  {
   "cell_type": "code",
   "execution_count": null,
   "id": "incomplete-interview",
   "metadata": {},
   "outputs": [],
   "source": [
    "import glob\n",
    "import anndata"
   ]
  },
  {
   "cell_type": "code",
   "execution_count": null,
   "id": "controversial-assessment",
   "metadata": {},
   "outputs": [],
   "source": [
    "# Load the TCR data\n",
    "adatas = []\n",
    "# for file in glob.glob('/nfs/team205/tcr_pipeline/datasets/GSE145926/*filtered_contig_annotations.csv.gz'):\n",
    "for file in glob.glob('/path/to/GSE145926/*filtered_contig_annotations.csv.gz'):\n",
    "    print(file)\n",
    "    adata_tcr = ir.io.read_10x_vdj(file)\n",
    "    adata_tcr.obs['sample_name'] = file.split('_')[2] # add unique sample_id to each file\n",
    "    adatas.append(adata_tcr)"
   ]
  },
  {
   "cell_type": "code",
   "execution_count": null,
   "id": "electric-house",
   "metadata": {},
   "outputs": [],
   "source": [
    "adata = anndata.concat(adatas)"
   ]
  },
  {
   "cell_type": "code",
   "execution_count": null,
   "id": "active-given",
   "metadata": {},
   "outputs": [],
   "source": [
    "ir.pp.index_chains(adata)\n",
    "ir.tl.chain_qc(adata)"
   ]
  },
  {
   "cell_type": "code",
   "execution_count": null,
   "id": "electoral-peeing",
   "metadata": {},
   "outputs": [],
   "source": [
    "adata"
   ]
  },
  {
   "cell_type": "markdown",
   "id": "rubber-vocabulary",
   "metadata": {},
   "source": [
    "Done! Feel free to browse this dataset in more detail using the methods we tried in the previous sections. You can also load the gene expression data and start looking into T cells by phenotype."
   ]
  }
 ],
 "metadata": {
  "kernelspec": {
   "display_name": "imm_air_env",
   "language": "python",
   "name": "imm_air_env"
  },
  "language_info": {
   "codemirror_mode": {
    "name": "ipython",
    "version": 3
   },
   "file_extension": ".py",
   "mimetype": "text/x-python",
   "name": "python",
   "nbconvert_exporter": "python",
   "pygments_lexer": "ipython3",
   "version": "3.10.14"
  },
  "toc-autonumbering": true,
  "toc-showcode": false,
  "toc-showmarkdowntxt": false
 },
 "nbformat": 4,
 "nbformat_minor": 5
}
